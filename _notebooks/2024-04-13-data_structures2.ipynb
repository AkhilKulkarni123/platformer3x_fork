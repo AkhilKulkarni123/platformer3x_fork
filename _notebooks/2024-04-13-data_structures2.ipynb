{
 "cells": [
  {
   "cell_type": "raw",
   "metadata": {
    "vscode": {
     "languageId": "raw"
    }
   },
   "source": [
    "---\n",
    "toc: true\n",
    "comments: true\n",
    "layout: post\n",
    "title: Data Structures in PlayerBase.js\n",
    "description: Using Objects defined by this.state and this.pressedKeys\n",
    "---"
   ]
  },
  {
   "cell_type": "markdown",
   "metadata": {},
   "source": [
    "## Introduction to Objects in JavaScript\n"
   ]
  },
  {
   "cell_type": "markdown",
   "metadata": {},
   "source": [
    "### Overview of this.state as an example of an Object\n"
   ]
  },
  {
   "cell_type": "code",
   "execution_count": 69,
   "metadata": {
    "vscode": {
     "languageId": "javascript"
    }
   },
   "outputs": [
    {
     "data": {
      "application/javascript": "\n/**\n * Initial environment of the player.\n * @property {string} collision - The current object the player is interacting with (e.g., 'floor', 'wall', 'platform').\n * @property {Array} collisions - The collisions that the player has had.\n * @property {string} animation - The current animation state of the player (e.g., 'idle', 'walk', 'run', 'jump').\n * @property {string} direction - The direction the player is facing (e.g., 'left', 'right').\n * @property {Object} movement - The directions in which the player can move.\n * @property {boolean} movement.up - Whether the player can move up.\n * @property {boolean} movement.down - Whether the player can move down.\n * @property {boolean} movement.left - Whether the player can move left.\n * @property {boolean} movement.right - Whether the player can move right.\n * @property {boolean} movement.falling - Whether the player is falling.\n * @property {boolean} isDying - Whether the player is dying.\n */\n// This object represents the initial state of the player when the game starts.\nvar initEnvironmentState = {\n    // environment\n    collision: 'floor',\n    collisions: [],\n    // player\n    animation: 'idle',\n    direction: 'right',\n    movement: {up: false, down: false, left: true, right: true, falling: false},\n    isDying: false,\n};\n\n// Make a reference to the initial state of the player\nvar state = {...initEnvironmentState};\n\n// Format the object as a string\nvar msg = \"Initial environment of the player: \" + JSON.stringify(state);\n// Show the Object in Jupyter output\nelement.append(msg);\n",
      "text/plain": [
       "<IPython.core.display.Javascript object>"
      ]
     },
     "metadata": {},
     "output_type": "display_data"
    }
   ],
   "source": [
    "%%js\n",
    "\n",
    "/**\n",
    " * Initial environment of the player.\n",
    " * @property {string} collision - The current object the player is interacting with (e.g., 'floor', 'wall', 'platform').\n",
    " * @property {Array} collisions - The collisions that the player has had.\n",
    " * @property {string} animation - The current animation state of the player (e.g., 'idle', 'walk', 'run', 'jump').\n",
    " * @property {string} direction - The direction the player is facing (e.g., 'left', 'right').\n",
    " * @property {Object} movement - The directions in which the player can move.\n",
    " * @property {boolean} movement.up - Whether the player can move up.\n",
    " * @property {boolean} movement.down - Whether the player can move down.\n",
    " * @property {boolean} movement.left - Whether the player can move left.\n",
    " * @property {boolean} movement.right - Whether the player can move right.\n",
    " * @property {boolean} movement.falling - Whether the player is falling.\n",
    " * @property {boolean} isDying - Whether the player is dying.\n",
    " */\n",
    "// This object represents the initial state of the player when the game starts.\n",
    "var initEnvironmentState = {\n",
    "    // environment\n",
    "    collision: 'floor',\n",
    "    collisions: [],\n",
    "    // player\n",
    "    animation: 'idle',\n",
    "    direction: 'right',\n",
    "    movement: {up: false, down: false, left: true, right: true, falling: false},\n",
    "    isDying: false,\n",
    "};\n",
    "\n",
    "// Make a reference to the initial state of the player\n",
    "var state = {...initEnvironmentState};\n",
    "\n",
    "// Format the object as a string\n",
    "var msg = \"Initial environment of the player: \" + JSON.stringify(state);\n",
    "// Show the Object in Jupyter output\n",
    "element.append(msg);"
   ]
  },
  {
   "cell_type": "markdown",
   "metadata": {},
   "source": [
    "### Overview of this.pressedKeys as another example of an Object"
   ]
  },
  {
   "cell_type": "markdown",
   "metadata": {},
   "source": [
    "## Hacks"
   ]
  }
 ],
 "metadata": {
  "kernelspec": {
   "display_name": "Python 3",
   "language": "python",
   "name": "python3"
  },
  "language_info": {
   "codemirror_mode": {
    "name": "ipython",
    "version": 3
   },
   "file_extension": ".py",
   "mimetype": "text/x-python",
   "name": "python",
   "nbconvert_exporter": "python",
   "pygments_lexer": "ipython3",
   "version": "3.11.8"
  }
 },
 "nbformat": 4,
 "nbformat_minor": 2
}
